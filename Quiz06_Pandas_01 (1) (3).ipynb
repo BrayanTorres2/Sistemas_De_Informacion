{
  "cells": [
    {
      "cell_type": "markdown",
      "metadata": {
        "id": "WKDTOhzx1S8c"
      },
      "source": [
        "# Quiz 06 - Pandas\n",
        "\n",
        "Vamos a trabajar con una base de datos que contiene la información de todos los colegios del país. Esta base de datos tiene los siguientes atributos:\n",
        "\n",
        "* Código y nombre del departamento donde se encuentra el *colegio*\n",
        "* Código y nombre del municipio donde se encuentra el colegio\n",
        "* Código y nombre del sector al que pertenece al colegio. Los colegios públicos pertenecen al sector OFICIAL y los colegios privados pertenecen al sector NO_OFICIAL\n",
        "* Código y nombre del caracter del colegio. Estos caracteres son: 'Académico' o 'Técnico'\n",
        "* Código y nombre del calendario que tiene el colegio. Los calendarios pueden ser 'A', 'B' u 'OTRO'.\n",
        "* Cántidad de estudiantes tiene matriculados\n",
        "* Cantidad de sedes que posee el colegio.\n",
        "\n",
        "\n"
      ]
    },
    {
      "cell_type": "markdown",
      "metadata": {
        "id": "PdIdYnag5z-7"
      },
      "source": [
        "## Preámbulo\n",
        "\n",
        "Ejecute la siguiente célula para traer la información de los diversos colegios. Esta información quedará almacenada en el dataframe `colegios` que podrá utilizar en los diversos ejercicios que vienen a continuación."
      ]
    },
    {
      "cell_type": "code",
      "execution_count": 1,
      "metadata": {
        "id": "ta20cnOFliyN"
      },
      "outputs": [],
      "source": [
        "# Importar los paquetes python que necesitamos\n",
        "import numpy as np\n",
        "import pandas as pd\n",
        "\n",
        "# Obtener el archivo de colegios\n",
        "colegios = pd.read_excel(\"https://github.com/BrayanTorres2/Programacion-Orientada-Por-Objetos/raw/main/Colegios_a_nivel_nacional.xlsx\")\n"
      ]
    },
    {
      "cell_type": "markdown",
      "metadata": {
        "id": "IFtnV1IQ6QsS"
      },
      "source": [
        "## Ejercicio 01\n",
        "\n",
        "¿Cuántos colegios hay en el archivo?"
      ]
    },
    {
      "cell_type": "code",
      "execution_count": 4,
      "metadata": {
        "id": "4LZuJOARlz40"
      },
      "outputs": [
        {
          "data": {
            "text/plain": [
              "7678"
            ]
          },
          "execution_count": 4,
          "metadata": {},
          "output_type": "execute_result"
        }
      ],
      "source": [
        "# Respuesta del Ejercicio 01\n",
        "len(colegios)\n",
        "# ¿Cuándos colegios hay el el dataframe?\n",
        "len(colegios)\n",
        "# el tamaño del dataframe\n",
        "colegios.shape\n",
        "\n"
      ]
    },
    {
      "cell_type": "markdown",
      "metadata": {
        "id": "aXTxpKwx6hKa"
      },
      "source": [
        "## Ejercicio 02\n",
        "\n",
        "¿Cuántos colegios públicos de departamentos del eje cafetero ('CALDAS', 'QUINDIO' o 'RISARALDA') hay en el archivo de colegios?"
      ]
    },
    {
      "cell_type": "code",
      "execution_count": 13,
      "metadata": {
        "id": "z9aojoXxtYwe"
      },
      "outputs": [
        {
          "data": {
            "text/plain": [
              "15"
            ]
          },
          "execution_count": 13,
          "metadata": {},
          "output_type": "execute_result"
        }
      ],
      "source": [
        "# Respuesta del Ejercicio 02\n",
        "#¿Cuántos colegios SECTOR sea OFICIAL y departamentos del eje cafetero ('CALDAS', 'QUINDIO' o 'RISARALDA') hay en el archivo de colegios?\n",
        "colegios.loc[(colegios['SECTOR'] == 'OFICIAL') & ((colegios['DEPARTAMENTO'] == 'CALDAS') | (colegios['DEPARTAMENTO'] == 'QUINDIO') | (colegios['DEPARTAMENTO'] == 'RISARALDA'))].shape[0]\n"
      ]
    },
    {
      "cell_type": "markdown",
      "metadata": {
        "id": "slaBHY0e7JlX"
      },
      "source": [
        "## Ejercicio 03\n",
        "\n",
        "¿Cuál es el nombre del colegio del Huila que tiene la mayor cantidad de estudiantes?"
      ]
    },
    {
      "cell_type": "code",
      "execution_count": 20,
      "metadata": {
        "id": "vtiIQA4Kth67"
      },
      "outputs": [
        {
          "data": {
            "text/plain": [
              "'NUEVO COLEGIO MEKADDESH'"
            ]
          },
          "execution_count": 20,
          "metadata": {},
          "output_type": "execute_result"
        }
      ],
      "source": [
        "# Respuesta del Ejercicio 03\n",
        "#¿Cuál es el NOMBRE_COLEGIO del colegio del DEPARTAMENTO del HUILA que tiene la mayor cantidad de ESTUDIANTES_MATRICULADOS?\n",
        "colegios.loc[colegios['DEPARTAMENTO'] == 'HUILA'].NOMBRE_COLEGIO.max()"
      ]
    },
    {
      "cell_type": "markdown",
      "metadata": {
        "id": "gm9VlY938QSK"
      },
      "source": [
        "## Ejercicio 04\n",
        "\n",
        "¿Cuál es la suma de la cantidad de estudiantes matriculados en los colegios públicos del municipio de 'FLORIDABLANCA' en el departamento de 'SANTANDER' que tienen más de una sede?"
      ]
    },
    {
      "cell_type": "code",
      "execution_count": 24,
      "metadata": {
        "id": "t5OzXBPz83CQ"
      },
      "outputs": [
        {
          "data": {
            "text/plain": [
              "34437"
            ]
          },
          "execution_count": 24,
          "metadata": {},
          "output_type": "execute_result"
        }
      ],
      "source": [
        "# Respuesta del Ejercicio 04\n",
        "#¿Cuál es la suma de la cantidad de estudiantes matriculados en los colegios públicos del municipio de 'FLORIDABLANCA' en el departamento de 'SANTANDER' que tienen más de una sede?\n",
        "colegios.loc[(colegios['DEPARTAMENTO'] == 'SANTANDER') & (colegios['MUNICIPIO'] == 'FLORIDABLANCA') & (colegios['SECTOR'] == 'OFICIAL')].ESTUDIANTES_MATRICULADOS.sum()"
      ]
    },
    {
      "cell_type": "markdown",
      "metadata": {
        "id": "EcIOQGJJlrop"
      },
      "source": [
        "## Ejercicio 05\n",
        "\n",
        "¿Cuál es el nombre el colegio público del departamento con código 11 que tiene la mayor cantidad de estudiantes?"
      ]
    },
    {
      "cell_type": "code",
      "execution_count": 27,
      "metadata": {
        "id": "WUiSt6wdnLIJ"
      },
      "outputs": [
        {
          "data": {
            "text/plain": [
              "'COLEGIO VISTA BELLA (IED)'"
            ]
          },
          "execution_count": 27,
          "metadata": {},
          "output_type": "execute_result"
        }
      ],
      "source": [
        "# Respuesta del Ejercicio 05\n",
        "#¿Cuál es el nombre el colegio del SECTOR OFICIAL Y COD_DEPARTAMENTO sea 11 que tiene la mayor cantidad de ESTUDIANTES_MATRICULADOS?\n"
      ]
    }
  ],
  "metadata": {
    "colab": {
      "collapsed_sections": [],
      "name": "Quiz06_Pandas_01.ipynb",
      "provenance": []
    },
    "kernelspec": {
      "display_name": "Python 3",
      "name": "python3"
    },
    "language_info": {
      "name": "python",
      "version": "3.10.3"
    }
  },
  "nbformat": 4,
  "nbformat_minor": 0
}
